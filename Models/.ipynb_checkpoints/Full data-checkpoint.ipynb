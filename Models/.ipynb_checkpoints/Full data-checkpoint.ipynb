{
 "cells": [
  {
   "cell_type": "code",
   "execution_count": null,
   "id": "ed49dd8b",
   "metadata": {},
   "outputs": [],
   "source": [
    "import pandas as pd\n",
    "import tensorflow as tf\n",
    "from tensorflow.keras.preprocessing.image import ImageDataGenerator\n",
    "from sklearn.model_selection import train_test_split\n",
    "import numpy as np"
   ]
  },
  {
   "cell_type": "code",
   "execution_count": null,
   "id": "0d82251e",
   "metadata": {},
   "outputs": [],
   "source": [
    "landmarks = pd.read_csv('../../Data/train.csv')\n",
    "landmarks.landmark_id = landmarks.landmark_id.astype(str)\n",
    "landmarks"
   ]
  },
  {
   "cell_type": "code",
   "execution_count": null,
   "id": "def6cc99",
   "metadata": {},
   "outputs": [],
   "source": [
    "def get_file(id):\n",
    "    root = 'C:/Users/samma/Desktop/Data science projects/landmark-recognition-2021/Data/train/'\n",
    "    subfolder ='/'.join(x for x in id[0:3])\n",
    "    file = '/'+id+'.jpg'\n",
    "    return root+subfolder+file"
   ]
  },
  {
   "cell_type": "code",
   "execution_count": null,
   "id": "6a193d60",
   "metadata": {},
   "outputs": [],
   "source": [
    "get_file(landmarks.id[0])"
   ]
  },
  {
   "cell_type": "code",
   "execution_count": null,
   "id": "5d09ff5d",
   "metadata": {},
   "outputs": [],
   "source": [
    "landmarks['file'] = landmarks.id.apply(get_file)\n",
    "landmarks"
   ]
  },
  {
   "cell_type": "code",
   "execution_count": 6,
   "id": "17c6a1c1",
   "metadata": {},
   "outputs": [
    {
     "name": "stdout",
     "output_type": "stream",
     "text": [
      "81076\n",
      "1264376\n",
      "65713\n",
      "315560\n"
     ]
    }
   ],
   "source": [
    "train, valid = train_test_split(landmarks,test_size=0.2, random_state=77)\n",
    "valid=valid[~valid.landmark_id.isin(list(set(valid.landmark_id.values)-set(train.landmark_id.values)))]\n",
    "print(len(train.landmark_id.value_counts()))\n",
    "print(len(train))\n",
    "print(len(valid.landmark_id.value_counts()))\n",
    "print(len(valid))"
   ]
  },
  {
   "cell_type": "code",
   "execution_count": 7,
   "id": "785bf4b2",
   "metadata": {},
   "outputs": [
    {
     "name": "stdout",
     "output_type": "stream",
     "text": [
      "Found 1264376 validated image filenames belonging to 81076 classes.\n",
      "Found 315560 validated image filenames belonging to 65713 classes.\n"
     ]
    }
   ],
   "source": [
    "datagen = ImageDataGenerator(rescale=1/255)\n",
    "\n",
    "train_generator = datagen.flow_from_dataframe(dataframe=train, x_col='file', y_col='landmark_id', class_mode='categorical',\n",
    "                                             target_size = (300,300), batch_size=32)\n",
    "validation_generator = datagen.flow_from_dataframe(dataframe=valid, x_col='file',  y_col='landmark_id', class_mode='categorical',\n",
    "                                                  target_size=(300,300), batch_size=32)"
   ]
  },
  {
   "cell_type": "code",
   "execution_count": null,
   "id": "b3c7521b",
   "metadata": {},
   "outputs": [],
   "source": [
    "def GAP(predictions, confidence, actuals):\n",
    "    total = 0\n",
    "    for i in range(0,len(predictions)):\n",
    "        if predictions[i] == actuals[i]:\n",
    "            total += confidence[i]\n",
    "    GAP = total/len(predictions)\n",
    "    return GAP"
   ]
  },
  {
   "cell_type": "code",
   "execution_count": null,
   "id": "46e0735f",
   "metadata": {},
   "outputs": [],
   "source": [
    "first_100=np.sort(np.unique(landmarks.landmark_id).astype(int)).astype(str)[:100]"
   ]
  },
  {
   "cell_type": "code",
   "execution_count": null,
   "id": "fa9f1b9b",
   "metadata": {},
   "outputs": [],
   "source": [
    "small_landmarks = landmarks[landmarks.landmark_id.isin(first_100)]"
   ]
  },
  {
   "cell_type": "code",
   "execution_count": null,
   "id": "6d4be003",
   "metadata": {},
   "outputs": [],
   "source": [
    "small_train, small_valid = train_test_split(small_landmarks,test_size=0.2, random_state=77)\n",
    "small_valid=small_valid[~small_valid.landmark_id.isin(list(set(small_valid.landmark_id.values)-set(small_train.landmark_id.values)))]\n",
    "small_train = small_train[~small_train.landmark_id.isin(list(set(small_train.landmark_id.values)-set(small_valid.landmark_id.values)))]\n",
    "print(len(small_train.landmark_id.value_counts()))\n",
    "print(len(small_train))\n",
    "print(len(small_valid.landmark_id.value_counts()))\n",
    "print(len(small_valid))"
   ]
  },
  {
   "cell_type": "code",
   "execution_count": null,
   "id": "93b8a97e",
   "metadata": {},
   "outputs": [],
   "source": [
    "small_train_generator = datagen.flow_from_dataframe(dataframe=small_train,x_col='file', y_col='landmark_id', class_mode='categorical',\n",
    "                                             target_size = (300,300), batch_size=32)\n",
    "small_validation_generator = datagen.flow_from_dataframe(dataframe=small_valid, x_col='file', y_col='landmark_id', class_mode='categorical',\n",
    "                                             target_size = (300,300), batch_size=32)\n",
    "expanded_small_valid = np.expand_dims(np.expand_dims(small_valid, axis=2),axis=3)"
   ]
  },
  {
   "cell_type": "code",
   "execution_count": null,
   "id": "eea2cc2e",
   "metadata": {},
   "outputs": [],
   "source": [
    "model = tf.keras.Sequential([\n",
    "    tf.keras.layers.Conv2D(16,(3,3),activation='relu', input_shape=(300,300,3)),\n",
    "    tf.keras.layers.MaxPooling2D(2,2),\n",
    "    tf.keras.layers.Flatten(),\n",
    "    tf.keras.layers.Dense(512, activation='relu'),\n",
    "    tf.keras.layers.Dense(81, activation='softmax')\n",
    "])"
   ]
  },
  {
   "cell_type": "code",
   "execution_count": null,
   "id": "07c1f5c0",
   "metadata": {},
   "outputs": [],
   "source": [
    "model.summary()"
   ]
  },
  {
   "cell_type": "code",
   "execution_count": null,
   "id": "cff4326f",
   "metadata": {},
   "outputs": [],
   "source": [
    "model.compile(loss='CategoricalCrossentropy', optimizer = 'Adam', metrics = ['Precision'])"
   ]
  },
  {
   "cell_type": "code",
   "execution_count": null,
   "id": "4f7950f1",
   "metadata": {},
   "outputs": [],
   "source": [
    "history = model.fit(small_train_generator, epochs = 100, steps_per_epoch=10, validation_data=small_validation_generator, validation_steps=10)"
   ]
  },
  {
   "cell_type": "code",
   "execution_count": null,
   "id": "aa951786",
   "metadata": {},
   "outputs": [],
   "source": [
    "history.history"
   ]
  },
  {
   "cell_type": "code",
   "execution_count": null,
   "id": "d71af6a3",
   "metadata": {},
   "outputs": [],
   "source": [
    "predictions = model.predict(small_validation_generator)"
   ]
  },
  {
   "cell_type": "code",
   "execution_count": null,
   "id": "65ec3d2c",
   "metadata": {},
   "outputs": [],
   "source": [
    "pred=[]\n",
    "percent = []\n",
    "for prediction in predictions:\n",
    "    pred.append(np.unique(small_train.landmark_id)[np.argmax(prediction)])\n",
    "    percent.append(max(prediction))"
   ]
  },
  {
   "cell_type": "code",
   "execution_count": null,
   "id": "e4800eae",
   "metadata": {},
   "outputs": [],
   "source": [
    "pred"
   ]
  },
  {
   "cell_type": "code",
   "execution_count": null,
   "id": "ad33b704",
   "metadata": {},
   "outputs": [],
   "source": [
    "percent"
   ]
  },
  {
   "cell_type": "code",
   "execution_count": null,
   "id": "35b3a078",
   "metadata": {},
   "outputs": [],
   "source": [
    "GAP(pred,percent,small_valid.landmark_id.values)"
   ]
  }
 ],
 "metadata": {
  "kernelspec": {
   "display_name": "Python 3",
   "language": "python",
   "name": "python3"
  },
  "language_info": {
   "codemirror_mode": {
    "name": "ipython",
    "version": 3
   },
   "file_extension": ".py",
   "mimetype": "text/x-python",
   "name": "python",
   "nbconvert_exporter": "python",
   "pygments_lexer": "ipython3",
   "version": "3.8.5"
  }
 },
 "nbformat": 4,
 "nbformat_minor": 5
}
