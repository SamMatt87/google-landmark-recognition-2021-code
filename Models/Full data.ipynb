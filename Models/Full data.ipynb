{
 "cells": [
  {
   "cell_type": "code",
   "execution_count": 1,
   "id": "ed49dd8b",
   "metadata": {},
   "outputs": [],
   "source": [
    "import pandas as pd\n",
    "import tensorflow as tf\n",
    "from tensorflow.keras.preprocessing.image import ImageDataGenerator\n",
    "from sklearn.model_selection import train_test_split\n",
    "import numpy as np"
   ]
  },
  {
   "cell_type": "code",
   "execution_count": 2,
   "id": "0d82251e",
   "metadata": {},
   "outputs": [
    {
     "data": {
      "text/html": [
       "<div>\n",
       "<style scoped>\n",
       "    .dataframe tbody tr th:only-of-type {\n",
       "        vertical-align: middle;\n",
       "    }\n",
       "\n",
       "    .dataframe tbody tr th {\n",
       "        vertical-align: top;\n",
       "    }\n",
       "\n",
       "    .dataframe thead th {\n",
       "        text-align: right;\n",
       "    }\n",
       "</style>\n",
       "<table border=\"1\" class=\"dataframe\">\n",
       "  <thead>\n",
       "    <tr style=\"text-align: right;\">\n",
       "      <th></th>\n",
       "      <th>id</th>\n",
       "      <th>landmark_id</th>\n",
       "    </tr>\n",
       "  </thead>\n",
       "  <tbody>\n",
       "    <tr>\n",
       "      <th>0</th>\n",
       "      <td>17660ef415d37059</td>\n",
       "      <td>1</td>\n",
       "    </tr>\n",
       "    <tr>\n",
       "      <th>1</th>\n",
       "      <td>92b6290d571448f6</td>\n",
       "      <td>1</td>\n",
       "    </tr>\n",
       "    <tr>\n",
       "      <th>2</th>\n",
       "      <td>cd41bf948edc0340</td>\n",
       "      <td>1</td>\n",
       "    </tr>\n",
       "    <tr>\n",
       "      <th>3</th>\n",
       "      <td>fb09f1e98c6d2f70</td>\n",
       "      <td>1</td>\n",
       "    </tr>\n",
       "    <tr>\n",
       "      <th>4</th>\n",
       "      <td>25c9dfc7ea69838d</td>\n",
       "      <td>7</td>\n",
       "    </tr>\n",
       "    <tr>\n",
       "      <th>...</th>\n",
       "      <td>...</td>\n",
       "      <td>...</td>\n",
       "    </tr>\n",
       "    <tr>\n",
       "      <th>1580465</th>\n",
       "      <td>72c3b1c367e3d559</td>\n",
       "      <td>203092</td>\n",
       "    </tr>\n",
       "    <tr>\n",
       "      <th>1580466</th>\n",
       "      <td>7a6a2d9ea92684a6</td>\n",
       "      <td>203092</td>\n",
       "    </tr>\n",
       "    <tr>\n",
       "      <th>1580467</th>\n",
       "      <td>9401fad4c497e1f9</td>\n",
       "      <td>203092</td>\n",
       "    </tr>\n",
       "    <tr>\n",
       "      <th>1580468</th>\n",
       "      <td>aacc960c9a228b5f</td>\n",
       "      <td>203092</td>\n",
       "    </tr>\n",
       "    <tr>\n",
       "      <th>1580469</th>\n",
       "      <td>d9e338c530dca106</td>\n",
       "      <td>203092</td>\n",
       "    </tr>\n",
       "  </tbody>\n",
       "</table>\n",
       "<p>1580470 rows × 2 columns</p>\n",
       "</div>"
      ],
      "text/plain": [
       "                       id landmark_id\n",
       "0        17660ef415d37059           1\n",
       "1        92b6290d571448f6           1\n",
       "2        cd41bf948edc0340           1\n",
       "3        fb09f1e98c6d2f70           1\n",
       "4        25c9dfc7ea69838d           7\n",
       "...                   ...         ...\n",
       "1580465  72c3b1c367e3d559      203092\n",
       "1580466  7a6a2d9ea92684a6      203092\n",
       "1580467  9401fad4c497e1f9      203092\n",
       "1580468  aacc960c9a228b5f      203092\n",
       "1580469  d9e338c530dca106      203092\n",
       "\n",
       "[1580470 rows x 2 columns]"
      ]
     },
     "execution_count": 2,
     "metadata": {},
     "output_type": "execute_result"
    }
   ],
   "source": [
    "landmarks = pd.read_csv('../../Data/train.csv')\n",
    "landmarks.landmark_id = landmarks.landmark_id.astype(str)\n",
    "landmarks"
   ]
  },
  {
   "cell_type": "code",
   "execution_count": 3,
   "id": "def6cc99",
   "metadata": {},
   "outputs": [],
   "source": [
    "def get_file(id):\n",
    "    root = 'C:/Users/samma/Desktop/Data science projects/landmark-recognition-2021/Data/train/'\n",
    "    subfolder ='/'.join(x for x in id[0:3])\n",
    "    file = '/'+id+'.jpg'\n",
    "    return root+subfolder+file"
   ]
  },
  {
   "cell_type": "code",
   "execution_count": 4,
   "id": "6a193d60",
   "metadata": {},
   "outputs": [
    {
     "data": {
      "text/plain": [
       "'C:/Users/samma/Desktop/Data science projects/landmark-recognition-2021/Data/train/1/7/6/17660ef415d37059.jpg'"
      ]
     },
     "execution_count": 4,
     "metadata": {},
     "output_type": "execute_result"
    }
   ],
   "source": [
    "get_file(landmarks.id[0])"
   ]
  },
  {
   "cell_type": "code",
   "execution_count": 5,
   "id": "5d09ff5d",
   "metadata": {},
   "outputs": [
    {
     "data": {
      "text/html": [
       "<div>\n",
       "<style scoped>\n",
       "    .dataframe tbody tr th:only-of-type {\n",
       "        vertical-align: middle;\n",
       "    }\n",
       "\n",
       "    .dataframe tbody tr th {\n",
       "        vertical-align: top;\n",
       "    }\n",
       "\n",
       "    .dataframe thead th {\n",
       "        text-align: right;\n",
       "    }\n",
       "</style>\n",
       "<table border=\"1\" class=\"dataframe\">\n",
       "  <thead>\n",
       "    <tr style=\"text-align: right;\">\n",
       "      <th></th>\n",
       "      <th>id</th>\n",
       "      <th>landmark_id</th>\n",
       "      <th>file</th>\n",
       "    </tr>\n",
       "  </thead>\n",
       "  <tbody>\n",
       "    <tr>\n",
       "      <th>0</th>\n",
       "      <td>17660ef415d37059</td>\n",
       "      <td>1</td>\n",
       "      <td>C:/Users/samma/Desktop/Data science projects/l...</td>\n",
       "    </tr>\n",
       "    <tr>\n",
       "      <th>1</th>\n",
       "      <td>92b6290d571448f6</td>\n",
       "      <td>1</td>\n",
       "      <td>C:/Users/samma/Desktop/Data science projects/l...</td>\n",
       "    </tr>\n",
       "    <tr>\n",
       "      <th>2</th>\n",
       "      <td>cd41bf948edc0340</td>\n",
       "      <td>1</td>\n",
       "      <td>C:/Users/samma/Desktop/Data science projects/l...</td>\n",
       "    </tr>\n",
       "    <tr>\n",
       "      <th>3</th>\n",
       "      <td>fb09f1e98c6d2f70</td>\n",
       "      <td>1</td>\n",
       "      <td>C:/Users/samma/Desktop/Data science projects/l...</td>\n",
       "    </tr>\n",
       "    <tr>\n",
       "      <th>4</th>\n",
       "      <td>25c9dfc7ea69838d</td>\n",
       "      <td>7</td>\n",
       "      <td>C:/Users/samma/Desktop/Data science projects/l...</td>\n",
       "    </tr>\n",
       "    <tr>\n",
       "      <th>...</th>\n",
       "      <td>...</td>\n",
       "      <td>...</td>\n",
       "      <td>...</td>\n",
       "    </tr>\n",
       "    <tr>\n",
       "      <th>1580465</th>\n",
       "      <td>72c3b1c367e3d559</td>\n",
       "      <td>203092</td>\n",
       "      <td>C:/Users/samma/Desktop/Data science projects/l...</td>\n",
       "    </tr>\n",
       "    <tr>\n",
       "      <th>1580466</th>\n",
       "      <td>7a6a2d9ea92684a6</td>\n",
       "      <td>203092</td>\n",
       "      <td>C:/Users/samma/Desktop/Data science projects/l...</td>\n",
       "    </tr>\n",
       "    <tr>\n",
       "      <th>1580467</th>\n",
       "      <td>9401fad4c497e1f9</td>\n",
       "      <td>203092</td>\n",
       "      <td>C:/Users/samma/Desktop/Data science projects/l...</td>\n",
       "    </tr>\n",
       "    <tr>\n",
       "      <th>1580468</th>\n",
       "      <td>aacc960c9a228b5f</td>\n",
       "      <td>203092</td>\n",
       "      <td>C:/Users/samma/Desktop/Data science projects/l...</td>\n",
       "    </tr>\n",
       "    <tr>\n",
       "      <th>1580469</th>\n",
       "      <td>d9e338c530dca106</td>\n",
       "      <td>203092</td>\n",
       "      <td>C:/Users/samma/Desktop/Data science projects/l...</td>\n",
       "    </tr>\n",
       "  </tbody>\n",
       "</table>\n",
       "<p>1580470 rows × 3 columns</p>\n",
       "</div>"
      ],
      "text/plain": [
       "                       id landmark_id  \\\n",
       "0        17660ef415d37059           1   \n",
       "1        92b6290d571448f6           1   \n",
       "2        cd41bf948edc0340           1   \n",
       "3        fb09f1e98c6d2f70           1   \n",
       "4        25c9dfc7ea69838d           7   \n",
       "...                   ...         ...   \n",
       "1580465  72c3b1c367e3d559      203092   \n",
       "1580466  7a6a2d9ea92684a6      203092   \n",
       "1580467  9401fad4c497e1f9      203092   \n",
       "1580468  aacc960c9a228b5f      203092   \n",
       "1580469  d9e338c530dca106      203092   \n",
       "\n",
       "                                                      file  \n",
       "0        C:/Users/samma/Desktop/Data science projects/l...  \n",
       "1        C:/Users/samma/Desktop/Data science projects/l...  \n",
       "2        C:/Users/samma/Desktop/Data science projects/l...  \n",
       "3        C:/Users/samma/Desktop/Data science projects/l...  \n",
       "4        C:/Users/samma/Desktop/Data science projects/l...  \n",
       "...                                                    ...  \n",
       "1580465  C:/Users/samma/Desktop/Data science projects/l...  \n",
       "1580466  C:/Users/samma/Desktop/Data science projects/l...  \n",
       "1580467  C:/Users/samma/Desktop/Data science projects/l...  \n",
       "1580468  C:/Users/samma/Desktop/Data science projects/l...  \n",
       "1580469  C:/Users/samma/Desktop/Data science projects/l...  \n",
       "\n",
       "[1580470 rows x 3 columns]"
      ]
     },
     "execution_count": 5,
     "metadata": {},
     "output_type": "execute_result"
    }
   ],
   "source": [
    "landmarks['file'] = landmarks.id.apply(get_file)\n",
    "landmarks"
   ]
  },
  {
   "cell_type": "code",
   "execution_count": 6,
   "id": "17c6a1c1",
   "metadata": {},
   "outputs": [
    {
     "name": "stdout",
     "output_type": "stream",
     "text": [
      "81076\n",
      "1264376\n",
      "65713\n",
      "315560\n"
     ]
    }
   ],
   "source": [
    "train, valid = train_test_split(landmarks,test_size=0.2, random_state=77)\n",
    "valid=valid[~valid.landmark_id.isin(list(set(valid.landmark_id.values)-set(train.landmark_id.values)))]\n",
    "print(len(train.landmark_id.value_counts()))\n",
    "print(len(train))\n",
    "print(len(valid.landmark_id.value_counts()))\n",
    "print(len(valid))"
   ]
  },
  {
   "cell_type": "code",
   "execution_count": 7,
   "id": "785bf4b2",
   "metadata": {},
   "outputs": [
    {
     "name": "stdout",
     "output_type": "stream",
     "text": [
      "Found 1264376 validated image filenames belonging to 81076 classes.\n",
      "Found 315560 validated image filenames belonging to 65713 classes.\n"
     ]
    }
   ],
   "source": [
    "datagen = ImageDataGenerator(rescale=1/255)\n",
    "\n",
    "train_generator = datagen.flow_from_dataframe(dataframe=train, x_col='file', y_col='landmark_id', class_mode='categorical',\n",
    "                                             target_size = (300,300), batch_size=32)\n",
    "validation_generator = datagen.flow_from_dataframe(dataframe=valid, x_col='file',  y_col='landmark_id', class_mode='categorical',\n",
    "                                                  target_size=(300,300), batch_size=32)"
   ]
  },
  {
   "cell_type": "code",
   "execution_count": 8,
   "id": "b3c7521b",
   "metadata": {},
   "outputs": [],
   "source": [
    "def GAP(predictions, confidence, actuals):\n",
    "    total = 0\n",
    "    for i in range(0,len(predictions)):\n",
    "        if predictions[i] == actuals[i]:\n",
    "            total += confidence[i]\n",
    "    GAP = total/len(predictions)\n",
    "    return GAP"
   ]
  },
  {
   "cell_type": "code",
   "execution_count": null,
   "id": "eea2cc2e",
   "metadata": {},
   "outputs": [],
   "source": [
    "model = tf.keras.Sequential([\n",
    "    tf.keras.layers.Conv2D(16,(3,3),activation='relu', input_shape=(300,300,3)),\n",
    "    tf.keras.layers.MaxPooling2D(2,2),\n",
    "    tf.keras.layers.Flatten(),\n",
    "    tf.keras.layers.Dense(512, activation='relu'),\n",
    "    tf.keras.layers.Dense(81, activation='softmax')\n",
    "])"
   ]
  },
  {
   "cell_type": "code",
   "execution_count": null,
   "id": "07c1f5c0",
   "metadata": {},
   "outputs": [],
   "source": [
    "model.summary()"
   ]
  },
  {
   "cell_type": "code",
   "execution_count": null,
   "id": "cff4326f",
   "metadata": {},
   "outputs": [],
   "source": [
    "model.compile(loss='CategoricalCrossentropy', optimizer = 'Adam', metrics = ['Precision'])"
   ]
  },
  {
   "cell_type": "code",
   "execution_count": null,
   "id": "4f7950f1",
   "metadata": {},
   "outputs": [],
   "source": [
    "history = model.fit(small_train_generator, epochs = 100, steps_per_epoch=10, validation_data=small_validation_generator, validation_steps=10)"
   ]
  },
  {
   "cell_type": "code",
   "execution_count": null,
   "id": "aa951786",
   "metadata": {},
   "outputs": [],
   "source": [
    "history.history"
   ]
  },
  {
   "cell_type": "code",
   "execution_count": null,
   "id": "d71af6a3",
   "metadata": {},
   "outputs": [],
   "source": [
    "predictions = model.predict(small_validation_generator)"
   ]
  },
  {
   "cell_type": "code",
   "execution_count": null,
   "id": "65ec3d2c",
   "metadata": {},
   "outputs": [],
   "source": [
    "pred=[]\n",
    "percent = []\n",
    "for prediction in predictions:\n",
    "    pred.append(np.unique(small_train.landmark_id)[np.argmax(prediction)])\n",
    "    percent.append(max(prediction))"
   ]
  },
  {
   "cell_type": "code",
   "execution_count": null,
   "id": "e4800eae",
   "metadata": {},
   "outputs": [],
   "source": [
    "pred"
   ]
  },
  {
   "cell_type": "code",
   "execution_count": null,
   "id": "ad33b704",
   "metadata": {},
   "outputs": [],
   "source": [
    "percent"
   ]
  },
  {
   "cell_type": "code",
   "execution_count": null,
   "id": "35b3a078",
   "metadata": {},
   "outputs": [],
   "source": [
    "GAP(pred,percent,small_valid.landmark_id.values)"
   ]
  }
 ],
 "metadata": {
  "kernelspec": {
   "display_name": "Python 3",
   "language": "python",
   "name": "python3"
  },
  "language_info": {
   "codemirror_mode": {
    "name": "ipython",
    "version": 3
   },
   "file_extension": ".py",
   "mimetype": "text/x-python",
   "name": "python",
   "nbconvert_exporter": "python",
   "pygments_lexer": "ipython3",
   "version": "3.8.5"
  }
 },
 "nbformat": 4,
 "nbformat_minor": 5
}
